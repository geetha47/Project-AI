{
 "cells": [
  {
   "cell_type": "code",
   "execution_count": 1,
   "metadata": {},
   "outputs": [
    {
     "name": "stdout",
     "output_type": "stream",
     "text": [
      "WARNING:tensorflow:From c:\\Users\\geeth\\anaconda3\\lib\\site-packages\\keras\\src\\losses.py:2976: The name tf.losses.sparse_softmax_cross_entropy is deprecated. Please use tf.compat.v1.losses.sparse_softmax_cross_entropy instead.\n",
      "\n"
     ]
    }
   ],
   "source": [
    "import numpy as np\n",
    "import tensorflow as tf\n",
    "\n",
    "from tensorflow.keras.preprocessing.image import ImageDataGenerator\n",
    "from tensorflow.keras.applications import MobileNet\n",
    "from tensorflow.keras.layers import Dense, GlobalAveragePooling2D\n",
    "from tensorflow.keras.models import Model\n",
    "from sklearn.model_selection import train_test_split\n",
    "from sklearn.metrics import precision_score, recall_score, f1_score"
   ]
  },
  {
   "cell_type": "code",
   "execution_count": 2,
   "metadata": {},
   "outputs": [],
   "source": [
    "import os"
   ]
  },
  {
   "cell_type": "code",
   "execution_count": 3,
   "metadata": {},
   "outputs": [],
   "source": [
    "IMAGE_SIZE = (224,224)\n",
    "NUM_CLASSES = 2"
   ]
  },
  {
   "cell_type": "code",
   "execution_count": 4,
   "metadata": {},
   "outputs": [],
   "source": [
    "DATA_DIR = r'C:\\Users\\geeth\\Downloads\\PAI700\\Data'\n",
    "DEFECTIVE_DIR = os.path.join(DATA_DIR, 'Unhealthy')\n",
    "QUALITY_DIR = os.path.join(DATA_DIR, 'Healthy')"
   ]
  },
  {
   "cell_type": "code",
   "execution_count": 5,
   "metadata": {},
   "outputs": [],
   "source": [
    "# Create ImageDataGenerator\n",
    "datagen = tf.keras.preprocessing.image.ImageDataGenerator(\n",
    "    rescale=1./255,  # Normalize pixel values to [0, 1]\n",
    "    rotation_range=20,\n",
    "    width_shift_range=0.2,\n",
    "    height_shift_range=0.2,\n",
    "    horizontal_flip=True\n",
    ")"
   ]
  },
  {
   "cell_type": "code",
   "execution_count": 6,
   "metadata": {},
   "outputs": [],
   "source": [
    "def load_data(directory):\n",
    "    images = []\n",
    "    labels = []\n",
    "    label = 0 if directory == QUALITY_DIR else 1  # Assign label based on directory\n",
    "    for filename in os.listdir(directory):\n",
    "        if filename.lower().endswith('.jpg'):\n",
    "            img_path = os.path.join(directory, filename)\n",
    "            img = tf.keras.preprocessing.image.load_img(img_path, target_size=IMAGE_SIZE)\n",
    "            img_array = tf.keras.preprocessing.image.img_to_array(img)\n",
    "            images.append(img_array)\n",
    "            labels.append(label)\n",
    "    return np.array(images), np.array(labels)"
   ]
  },
  {
   "cell_type": "code",
   "execution_count": 7,
   "metadata": {},
   "outputs": [],
   "source": [
    "# Load data\n",
    "healthy_images, healthy_labels = load_data(QUALITY_DIR)\n",
    "defective_images, defective_labels = load_data(DEFECTIVE_DIR)"
   ]
  },
  {
   "cell_type": "code",
   "execution_count": 8,
   "metadata": {},
   "outputs": [],
   "source": [
    "# Concatenate images and labels\n",
    "wood_images = np.concatenate([defective_images, healthy_images], axis=0)\n",
    "wood_labels = np.concatenate([defective_labels, healthy_labels], axis=0)"
   ]
  },
  {
   "cell_type": "code",
   "execution_count": 9,
   "metadata": {},
   "outputs": [],
   "source": [
    "# Split data into training and test sets\n",
    "train_images, test_images, train_labels, test_labels = train_test_split(\n",
    "    wood_images, wood_labels, test_size=0.2, random_state=42)"
   ]
  },
  {
   "cell_type": "code",
   "execution_count": 10,
   "metadata": {},
   "outputs": [],
   "source": [
    "\n",
    "# Normalize pixel values\n",
    "train_images_normalized = train_images / 255.0\n",
    "test_images_normalized = test_images / 255.0"
   ]
  },
  {
   "cell_type": "code",
   "execution_count": 11,
   "metadata": {},
   "outputs": [
    {
     "name": "stdout",
     "output_type": "stream",
     "text": [
      "WARNING:tensorflow:From c:\\Users\\geeth\\anaconda3\\lib\\site-packages\\keras\\src\\backend.py:1398: The name tf.executing_eagerly_outside_functions is deprecated. Please use tf.compat.v1.executing_eagerly_outside_functions instead.\n",
      "\n",
      "WARNING:tensorflow:From c:\\Users\\geeth\\anaconda3\\lib\\site-packages\\keras\\src\\layers\\normalization\\batch_normalization.py:979: The name tf.nn.fused_batch_norm is deprecated. Please use tf.compat.v1.nn.fused_batch_norm instead.\n",
      "\n"
     ]
    }
   ],
   "source": [
    "# Load MobileNet pre-trained model\n",
    "base_model = tf.keras.applications.MobileNet(\n",
    "    weights='imagenet', \n",
    "    include_top=False, \n",
    "    input_shape=(IMAGE_SIZE[0], IMAGE_SIZE[1], 3)\n",
    ")"
   ]
  },
  {
   "cell_type": "code",
   "execution_count": 12,
   "metadata": {},
   "outputs": [],
   "source": [
    "# Freeze the base model\n",
    "base_model.trainable = False"
   ]
  },
  {
   "cell_type": "code",
   "execution_count": 13,
   "metadata": {},
   "outputs": [],
   "source": [
    "model = tf.keras.Sequential([\n",
    "    base_model,\n",
    "    tf.keras.layers.GlobalAveragePooling2D(),\n",
    "    tf.keras.layers.Dense(256, activation='relu'),\n",
    "    tf.keras.layers.Dropout(0.5),\n",
    "    tf.keras.layers.Dense(NUM_CLASSES, activation='sigmoid')\n",
    "])"
   ]
  },
  {
   "cell_type": "code",
   "execution_count": 14,
   "metadata": {},
   "outputs": [
    {
     "name": "stdout",
     "output_type": "stream",
     "text": [
      "WARNING:tensorflow:From c:\\Users\\geeth\\anaconda3\\lib\\site-packages\\keras\\src\\optimizers\\__init__.py:309: The name tf.train.Optimizer is deprecated. Please use tf.compat.v1.train.Optimizer instead.\n",
      "\n"
     ]
    }
   ],
   "source": [
    "# Compile the model\n",
    "model.compile(optimizer='adam',\n",
    "              loss='sparse_categorical_crossentropy',\n",
    "              metrics=['accuracy'])\n"
   ]
  },
  {
   "cell_type": "code",
   "execution_count": 15,
   "metadata": {},
   "outputs": [
    {
     "name": "stdout",
     "output_type": "stream",
     "text": [
      "Epoch 1/10\n",
      "WARNING:tensorflow:From c:\\Users\\geeth\\anaconda3\\lib\\site-packages\\keras\\src\\utils\\tf_utils.py:492: The name tf.ragged.RaggedTensorValue is deprecated. Please use tf.compat.v1.ragged.RaggedTensorValue instead.\n",
      "\n",
      "WARNING:tensorflow:From c:\\Users\\geeth\\anaconda3\\lib\\site-packages\\keras\\src\\engine\\base_layer_utils.py:384: The name tf.executing_eagerly_outside_functions is deprecated. Please use tf.compat.v1.executing_eagerly_outside_functions instead.\n",
      "\n"
     ]
    },
    {
     "ename": "",
     "evalue": "",
     "output_type": "error",
     "traceback": [
      "\u001b[1;31mThe Kernel crashed while executing code in the current cell or a previous cell. \n",
      "\u001b[1;31mPlease review the code in the cell(s) to identify a possible cause of the failure. \n",
      "\u001b[1;31mClick <a href='https://aka.ms/vscodeJupyterKernelCrash'>here</a> for more info. \n",
      "\u001b[1;31mView Jupyter <a href='command:jupyter.viewOutput'>log</a> for further details."
     ]
    }
   ],
   "source": [
    "model.fit(train_images_normalized, train_labels,\n",
    "          batch_size=32,\n",
    "          epochs=10,\n",
    "          validation_data=(test_images_normalized, test_labels))"
   ]
  },
  {
   "cell_type": "code",
   "execution_count": null,
   "metadata": {},
   "outputs": [
    {
     "name": "stdout",
     "output_type": "stream",
     "text": [
      "30/30 [==============================] - 4s 131ms/step - loss: 0.0146 - accuracy: 0.9957\n",
      "Test Loss: 0.01455731876194477\n",
      "Test Accuracy: 0.9957447052001953\n"
     ]
    }
   ],
   "source": [
    "# Evaluate the model\n",
    "loss, accuracy = model.evaluate(test_images_normalized, test_labels)\n",
    "print(\"Test Loss:\", loss)\n",
    "print(\"Test Accuracy:\", accuracy)"
   ]
  },
  {
   "cell_type": "code",
   "execution_count": null,
   "metadata": {},
   "outputs": [
    {
     "name": "stdout",
     "output_type": "stream",
     "text": [
      "30/30 [==============================] - 4s 123ms/step\n"
     ]
    }
   ],
   "source": [
    "predictions = model.predict(test_images_normalized)\n",
    "predicted_classes = (predictions > 0.5).astype(\"int32\")"
   ]
  },
  {
   "cell_type": "code",
   "execution_count": null,
   "metadata": {},
   "outputs": [
    {
     "ename": "ValueError",
     "evalue": "Classification metrics can't handle a mix of binary and multilabel-indicator targets",
     "output_type": "error",
     "traceback": [
      "\u001b[1;31m---------------------------------------------------------------------------\u001b[0m",
      "\u001b[1;31mValueError\u001b[0m                                Traceback (most recent call last)",
      "Cell \u001b[1;32mIn[24], line 1\u001b[0m\n\u001b[1;32m----> 1\u001b[0m precision \u001b[38;5;241m=\u001b[39m \u001b[43mprecision_score\u001b[49m\u001b[43m(\u001b[49m\u001b[43mtest_labels\u001b[49m\u001b[43m,\u001b[49m\u001b[43m \u001b[49m\u001b[43mpredicted_classes\u001b[49m\u001b[43m)\u001b[49m\n\u001b[0;32m      2\u001b[0m recall \u001b[38;5;241m=\u001b[39m recall_score(test_labels, predicted_classes)\n\u001b[0;32m      3\u001b[0m f1 \u001b[38;5;241m=\u001b[39m f1_score(test_labels, predicted_classes)\n",
      "File \u001b[1;32mc:\\Users\\geeth\\anaconda3\\lib\\site-packages\\sklearn\\metrics\\_classification.py:1954\u001b[0m, in \u001b[0;36mprecision_score\u001b[1;34m(y_true, y_pred, labels, pos_label, average, sample_weight, zero_division)\u001b[0m\n\u001b[0;32m   1825\u001b[0m \u001b[38;5;28;01mdef\u001b[39;00m \u001b[38;5;21mprecision_score\u001b[39m(\n\u001b[0;32m   1826\u001b[0m     y_true,\n\u001b[0;32m   1827\u001b[0m     y_pred,\n\u001b[1;32m   (...)\u001b[0m\n\u001b[0;32m   1833\u001b[0m     zero_division\u001b[38;5;241m=\u001b[39m\u001b[38;5;124m\"\u001b[39m\u001b[38;5;124mwarn\u001b[39m\u001b[38;5;124m\"\u001b[39m,\n\u001b[0;32m   1834\u001b[0m ):\n\u001b[0;32m   1835\u001b[0m     \u001b[38;5;124;03m\"\"\"Compute the precision.\u001b[39;00m\n\u001b[0;32m   1836\u001b[0m \n\u001b[0;32m   1837\u001b[0m \u001b[38;5;124;03m    The precision is the ratio ``tp / (tp + fp)`` where ``tp`` is the number of\u001b[39;00m\n\u001b[1;32m   (...)\u001b[0m\n\u001b[0;32m   1952\u001b[0m \u001b[38;5;124;03m    array([0.5, 1. , 1. ])\u001b[39;00m\n\u001b[0;32m   1953\u001b[0m \u001b[38;5;124;03m    \"\"\"\u001b[39;00m\n\u001b[1;32m-> 1954\u001b[0m     p, _, _, _ \u001b[38;5;241m=\u001b[39m \u001b[43mprecision_recall_fscore_support\u001b[49m\u001b[43m(\u001b[49m\n\u001b[0;32m   1955\u001b[0m \u001b[43m        \u001b[49m\u001b[43my_true\u001b[49m\u001b[43m,\u001b[49m\n\u001b[0;32m   1956\u001b[0m \u001b[43m        \u001b[49m\u001b[43my_pred\u001b[49m\u001b[43m,\u001b[49m\n\u001b[0;32m   1957\u001b[0m \u001b[43m        \u001b[49m\u001b[43mlabels\u001b[49m\u001b[38;5;241;43m=\u001b[39;49m\u001b[43mlabels\u001b[49m\u001b[43m,\u001b[49m\n\u001b[0;32m   1958\u001b[0m \u001b[43m        \u001b[49m\u001b[43mpos_label\u001b[49m\u001b[38;5;241;43m=\u001b[39;49m\u001b[43mpos_label\u001b[49m\u001b[43m,\u001b[49m\n\u001b[0;32m   1959\u001b[0m \u001b[43m        \u001b[49m\u001b[43maverage\u001b[49m\u001b[38;5;241;43m=\u001b[39;49m\u001b[43maverage\u001b[49m\u001b[43m,\u001b[49m\n\u001b[0;32m   1960\u001b[0m \u001b[43m        \u001b[49m\u001b[43mwarn_for\u001b[49m\u001b[38;5;241;43m=\u001b[39;49m\u001b[43m(\u001b[49m\u001b[38;5;124;43m\"\u001b[39;49m\u001b[38;5;124;43mprecision\u001b[39;49m\u001b[38;5;124;43m\"\u001b[39;49m\u001b[43m,\u001b[49m\u001b[43m)\u001b[49m\u001b[43m,\u001b[49m\n\u001b[0;32m   1961\u001b[0m \u001b[43m        \u001b[49m\u001b[43msample_weight\u001b[49m\u001b[38;5;241;43m=\u001b[39;49m\u001b[43msample_weight\u001b[49m\u001b[43m,\u001b[49m\n\u001b[0;32m   1962\u001b[0m \u001b[43m        \u001b[49m\u001b[43mzero_division\u001b[49m\u001b[38;5;241;43m=\u001b[39;49m\u001b[43mzero_division\u001b[49m\u001b[43m,\u001b[49m\n\u001b[0;32m   1963\u001b[0m \u001b[43m    \u001b[49m\u001b[43m)\u001b[49m\n\u001b[0;32m   1964\u001b[0m     \u001b[38;5;28;01mreturn\u001b[39;00m p\n",
      "File \u001b[1;32mc:\\Users\\geeth\\anaconda3\\lib\\site-packages\\sklearn\\metrics\\_classification.py:1573\u001b[0m, in \u001b[0;36mprecision_recall_fscore_support\u001b[1;34m(y_true, y_pred, beta, labels, pos_label, average, warn_for, sample_weight, zero_division)\u001b[0m\n\u001b[0;32m   1571\u001b[0m \u001b[38;5;28;01mif\u001b[39;00m beta \u001b[38;5;241m<\u001b[39m \u001b[38;5;241m0\u001b[39m:\n\u001b[0;32m   1572\u001b[0m     \u001b[38;5;28;01mraise\u001b[39;00m \u001b[38;5;167;01mValueError\u001b[39;00m(\u001b[38;5;124m\"\u001b[39m\u001b[38;5;124mbeta should be >=0 in the F-beta score\u001b[39m\u001b[38;5;124m\"\u001b[39m)\n\u001b[1;32m-> 1573\u001b[0m labels \u001b[38;5;241m=\u001b[39m \u001b[43m_check_set_wise_labels\u001b[49m\u001b[43m(\u001b[49m\u001b[43my_true\u001b[49m\u001b[43m,\u001b[49m\u001b[43m \u001b[49m\u001b[43my_pred\u001b[49m\u001b[43m,\u001b[49m\u001b[43m \u001b[49m\u001b[43maverage\u001b[49m\u001b[43m,\u001b[49m\u001b[43m \u001b[49m\u001b[43mlabels\u001b[49m\u001b[43m,\u001b[49m\u001b[43m \u001b[49m\u001b[43mpos_label\u001b[49m\u001b[43m)\u001b[49m\n\u001b[0;32m   1575\u001b[0m \u001b[38;5;66;03m# Calculate tp_sum, pred_sum, true_sum ###\u001b[39;00m\n\u001b[0;32m   1576\u001b[0m samplewise \u001b[38;5;241m=\u001b[39m average \u001b[38;5;241m==\u001b[39m \u001b[38;5;124m\"\u001b[39m\u001b[38;5;124msamples\u001b[39m\u001b[38;5;124m\"\u001b[39m\n",
      "File \u001b[1;32mc:\\Users\\geeth\\anaconda3\\lib\\site-packages\\sklearn\\metrics\\_classification.py:1374\u001b[0m, in \u001b[0;36m_check_set_wise_labels\u001b[1;34m(y_true, y_pred, average, labels, pos_label)\u001b[0m\n\u001b[0;32m   1371\u001b[0m \u001b[38;5;28;01mif\u001b[39;00m average \u001b[38;5;129;01mnot\u001b[39;00m \u001b[38;5;129;01min\u001b[39;00m average_options \u001b[38;5;129;01mand\u001b[39;00m average \u001b[38;5;241m!=\u001b[39m \u001b[38;5;124m\"\u001b[39m\u001b[38;5;124mbinary\u001b[39m\u001b[38;5;124m\"\u001b[39m:\n\u001b[0;32m   1372\u001b[0m     \u001b[38;5;28;01mraise\u001b[39;00m \u001b[38;5;167;01mValueError\u001b[39;00m(\u001b[38;5;124m\"\u001b[39m\u001b[38;5;124maverage has to be one of \u001b[39m\u001b[38;5;124m\"\u001b[39m \u001b[38;5;241m+\u001b[39m \u001b[38;5;28mstr\u001b[39m(average_options))\n\u001b[1;32m-> 1374\u001b[0m y_type, y_true, y_pred \u001b[38;5;241m=\u001b[39m \u001b[43m_check_targets\u001b[49m\u001b[43m(\u001b[49m\u001b[43my_true\u001b[49m\u001b[43m,\u001b[49m\u001b[43m \u001b[49m\u001b[43my_pred\u001b[49m\u001b[43m)\u001b[49m\n\u001b[0;32m   1375\u001b[0m \u001b[38;5;66;03m# Convert to Python primitive type to avoid NumPy type / Python str\u001b[39;00m\n\u001b[0;32m   1376\u001b[0m \u001b[38;5;66;03m# comparison. See https://github.com/numpy/numpy/issues/6784\u001b[39;00m\n\u001b[0;32m   1377\u001b[0m present_labels \u001b[38;5;241m=\u001b[39m unique_labels(y_true, y_pred)\u001b[38;5;241m.\u001b[39mtolist()\n",
      "File \u001b[1;32mc:\\Users\\geeth\\anaconda3\\lib\\site-packages\\sklearn\\metrics\\_classification.py:95\u001b[0m, in \u001b[0;36m_check_targets\u001b[1;34m(y_true, y_pred)\u001b[0m\n\u001b[0;32m     92\u001b[0m     y_type \u001b[38;5;241m=\u001b[39m {\u001b[38;5;124m\"\u001b[39m\u001b[38;5;124mmulticlass\u001b[39m\u001b[38;5;124m\"\u001b[39m}\n\u001b[0;32m     94\u001b[0m \u001b[38;5;28;01mif\u001b[39;00m \u001b[38;5;28mlen\u001b[39m(y_type) \u001b[38;5;241m>\u001b[39m \u001b[38;5;241m1\u001b[39m:\n\u001b[1;32m---> 95\u001b[0m     \u001b[38;5;28;01mraise\u001b[39;00m \u001b[38;5;167;01mValueError\u001b[39;00m(\n\u001b[0;32m     96\u001b[0m         \u001b[38;5;124m\"\u001b[39m\u001b[38;5;124mClassification metrics can\u001b[39m\u001b[38;5;124m'\u001b[39m\u001b[38;5;124mt handle a mix of \u001b[39m\u001b[38;5;132;01m{0}\u001b[39;00m\u001b[38;5;124m and \u001b[39m\u001b[38;5;132;01m{1}\u001b[39;00m\u001b[38;5;124m targets\u001b[39m\u001b[38;5;124m\"\u001b[39m\u001b[38;5;241m.\u001b[39mformat(\n\u001b[0;32m     97\u001b[0m             type_true, type_pred\n\u001b[0;32m     98\u001b[0m         )\n\u001b[0;32m     99\u001b[0m     )\n\u001b[0;32m    101\u001b[0m \u001b[38;5;66;03m# We can't have more than one value on y_type => The set is no more needed\u001b[39;00m\n\u001b[0;32m    102\u001b[0m y_type \u001b[38;5;241m=\u001b[39m y_type\u001b[38;5;241m.\u001b[39mpop()\n",
      "\u001b[1;31mValueError\u001b[0m: Classification metrics can't handle a mix of binary and multilabel-indicator targets"
     ]
    }
   ],
   "source": [
    "precision = precision_score(test_labels, predicted_classes)\n",
    "recall = recall_score(test_labels, predicted_classes)\n",
    "f1 = f1_score(test_labels, predicted_classes)\n",
    "\n",
    "print(\"Precision:\", precision)\n",
    "print(\"Recall:\", recall)\n",
    "print(\"F1 Score:\", f1)"
   ]
  },
  {
   "cell_type": "code",
   "execution_count": null,
   "metadata": {},
   "outputs": [],
   "source": [
    "VAL_DIR = r'C:\\Users\\geeth\\Downloads\\PAI700\\test_pics\\test_pics'\n",
    "val_images, val_labels = load_data(VAL_DIR)\n",
    "val_images_normalized = val_images / 255.0\n"
   ]
  },
  {
   "cell_type": "code",
   "execution_count": null,
   "metadata": {},
   "outputs": [
    {
     "data": {
      "text/plain": [
       "array([[[[126., 106., 115.],\n",
       "         [112.,  95., 105.],\n",
       "         [111.,  94., 102.],\n",
       "         ...,\n",
       "         [ 80.,  59.,  54.],\n",
       "         [ 71.,  53.,  41.],\n",
       "         [ 86.,  59.,  50.]],\n",
       "\n",
       "        [[127., 113., 130.],\n",
       "         [127., 108., 130.],\n",
       "         [109.,  95., 112.],\n",
       "         ...,\n",
       "         [106.,  85.,  82.],\n",
       "         [116., 101., 124.],\n",
       "         [112.,  91.,  70.]],\n",
       "\n",
       "        [[159., 142., 161.],\n",
       "         [131., 117., 132.],\n",
       "         [128., 110., 124.],\n",
       "         ...,\n",
       "         [136., 112., 112.],\n",
       "         [114.,  82.,  87.],\n",
       "         [114.,  90.,  80.]],\n",
       "\n",
       "        ...,\n",
       "\n",
       "        [[175., 141., 155.],\n",
       "         [231., 200., 208.],\n",
       "         [194., 158., 168.],\n",
       "         ...,\n",
       "         [217., 169., 169.],\n",
       "         [217., 181., 181.],\n",
       "         [224., 183., 189.]],\n",
       "\n",
       "        [[207., 174., 165.],\n",
       "         [201., 165., 175.],\n",
       "         [212., 169., 197.],\n",
       "         ...,\n",
       "         [214., 173., 179.],\n",
       "         [225., 184., 190.],\n",
       "         [232., 192., 201.]],\n",
       "\n",
       "        [[177., 140., 148.],\n",
       "         [200., 162., 187.],\n",
       "         [190., 151., 172.],\n",
       "         ...,\n",
       "         [229., 193., 207.],\n",
       "         [240., 198., 212.],\n",
       "         [237., 200., 208.]]],\n",
       "\n",
       "\n",
       "       [[[123.,  98.,  91.],\n",
       "         [123.,  99.,  99.],\n",
       "         [128., 104., 104.],\n",
       "         ...,\n",
       "         [117.,  97.,  98.],\n",
       "         [111.,  91.,  82.],\n",
       "         [106.,  86.,  85.]],\n",
       "\n",
       "        [[116.,  96.,  87.],\n",
       "         [119.,  98.,  95.],\n",
       "         [124., 102., 105.],\n",
       "         ...,\n",
       "         [120., 106., 103.],\n",
       "         [128., 115., 106.],\n",
       "         [128., 111., 101.]],\n",
       "\n",
       "        [[111.,  91.,  84.],\n",
       "         [120.,  99.,  96.],\n",
       "         [122., 102., 103.],\n",
       "         ...,\n",
       "         [118., 103., 106.],\n",
       "         [122., 108., 105.],\n",
       "         [123., 106.,  99.]],\n",
       "\n",
       "        ...,\n",
       "\n",
       "        [[180., 150., 139.],\n",
       "         [179., 152., 131.],\n",
       "         [176., 150., 133.],\n",
       "         ...,\n",
       "         [191., 167., 167.],\n",
       "         [179., 154., 160.],\n",
       "         [156., 137., 139.]],\n",
       "\n",
       "        [[177., 148., 140.],\n",
       "         [175., 147., 135.],\n",
       "         [177., 151., 136.],\n",
       "         ...,\n",
       "         [174., 165., 158.],\n",
       "         [173., 158., 155.],\n",
       "         [156., 136., 138.]],\n",
       "\n",
       "        [[170., 140., 140.],\n",
       "         [171., 144., 137.],\n",
       "         [176., 155., 138.],\n",
       "         ...,\n",
       "         [157., 146., 140.],\n",
       "         [157., 139., 135.],\n",
       "         [146., 122., 122.]]],\n",
       "\n",
       "\n",
       "       [[[167., 151., 162.],\n",
       "         [169., 148., 163.],\n",
       "         [179., 157., 169.],\n",
       "         ...,\n",
       "         [191., 166., 159.],\n",
       "         [177., 157., 150.],\n",
       "         [175., 151., 149.]],\n",
       "\n",
       "        [[174., 157., 175.],\n",
       "         [178., 157., 174.],\n",
       "         [187., 164., 170.],\n",
       "         ...,\n",
       "         [186., 158., 157.],\n",
       "         [180., 154., 153.],\n",
       "         [180., 150., 148.]],\n",
       "\n",
       "        [[185., 164., 181.],\n",
       "         [185., 163., 176.],\n",
       "         [192., 172., 173.],\n",
       "         ...,\n",
       "         [176., 147., 149.],\n",
       "         [173., 144., 146.],\n",
       "         [178., 149., 143.]],\n",
       "\n",
       "        ...,\n",
       "\n",
       "        [[139., 110., 104.],\n",
       "         [140., 116., 112.],\n",
       "         [144., 120., 118.],\n",
       "         ...,\n",
       "         [164., 141., 135.],\n",
       "         [164., 144., 137.],\n",
       "         [161., 133., 129.]],\n",
       "\n",
       "        [[141., 114., 105.],\n",
       "         [146., 121., 116.],\n",
       "         [150., 125., 120.],\n",
       "         ...,\n",
       "         [171., 144., 135.],\n",
       "         [172., 146., 133.],\n",
       "         [165., 136., 122.]],\n",
       "\n",
       "        [[146., 121., 116.],\n",
       "         [155., 128., 119.],\n",
       "         [159., 132., 121.],\n",
       "         ...,\n",
       "         [166., 138., 127.],\n",
       "         [166., 134., 119.],\n",
       "         [158., 131., 114.]]],\n",
       "\n",
       "\n",
       "       ...,\n",
       "\n",
       "\n",
       "       [[[ 99., 101.,  88.],\n",
       "         [101., 105.,  90.],\n",
       "         [102., 106.,  89.],\n",
       "         ...,\n",
       "         [106., 104.,  83.],\n",
       "         [108., 111., 100.],\n",
       "         [104., 102.,  81.]],\n",
       "\n",
       "        [[104., 106.,  93.],\n",
       "         [109., 113.,  98.],\n",
       "         [103., 107.,  90.],\n",
       "         ...,\n",
       "         [102., 112.,  87.],\n",
       "         [104., 109.,  89.],\n",
       "         [106., 103.,  84.]],\n",
       "\n",
       "        [[105., 114.,  97.],\n",
       "         [133., 144., 127.],\n",
       "         [105., 103.,  82.],\n",
       "         ...,\n",
       "         [138., 135., 120.],\n",
       "         [110., 115.,  95.],\n",
       "         [112., 113.,  99.]],\n",
       "\n",
       "        ...,\n",
       "\n",
       "        [[111., 108.,  91.],\n",
       "         [104., 101.,  86.],\n",
       "         [119., 117., 105.],\n",
       "         ...,\n",
       "         [123., 119., 110.],\n",
       "         [106., 104.,  79.],\n",
       "         [116., 120.,  97.]],\n",
       "\n",
       "        [[115., 111., 102.],\n",
       "         [106., 103.,  88.],\n",
       "         [113., 109.,  98.],\n",
       "         ...,\n",
       "         [116., 114.,  89.],\n",
       "         [106., 104.,  79.],\n",
       "         [114., 116., 103.]],\n",
       "\n",
       "        [[115., 111., 100.],\n",
       "         [111., 113.,  91.],\n",
       "         [111., 104.,  76.],\n",
       "         ...,\n",
       "         [101., 109.,  85.],\n",
       "         [111., 106.,  87.],\n",
       "         [110., 106.,  95.]]],\n",
       "\n",
       "\n",
       "       [[[ 96.,  91.,  61.],\n",
       "         [103., 107.,  74.],\n",
       "         [114., 116.,  95.],\n",
       "         ...,\n",
       "         [106., 100.,  78.],\n",
       "         [110., 105.,  86.],\n",
       "         [103.,  92.,  70.]],\n",
       "\n",
       "        [[100.,  95.,  75.],\n",
       "         [109., 111.,  87.],\n",
       "         [112., 112., 100.],\n",
       "         ...,\n",
       "         [114., 109.,  90.],\n",
       "         [ 98.,  94.,  69.],\n",
       "         [103.,  92.,  72.]],\n",
       "\n",
       "        [[108., 106.,  67.],\n",
       "         [110., 108.,  87.],\n",
       "         [108., 109.,  95.],\n",
       "         ...,\n",
       "         [103.,  97.,  75.],\n",
       "         [101.,  96.,  74.],\n",
       "         [109., 103., 103.]],\n",
       "\n",
       "        ...,\n",
       "\n",
       "        [[117., 111.,  99.],\n",
       "         [108., 102.,  90.],\n",
       "         [110., 106.,  94.],\n",
       "         ...,\n",
       "         [109., 105.,  67.],\n",
       "         [115., 112.,  93.],\n",
       "         [111., 109.,  84.]],\n",
       "\n",
       "        [[116., 110.,  98.],\n",
       "         [113., 107.,  95.],\n",
       "         [110., 106.,  94.],\n",
       "         ...,\n",
       "         [111., 107.,  78.],\n",
       "         [111., 108.,  89.],\n",
       "         [107.,  99.,  76.]],\n",
       "\n",
       "        [[115., 108.,  89.],\n",
       "         [113., 105.,  82.],\n",
       "         [110., 107.,  92.],\n",
       "         ...,\n",
       "         [114., 109.,  90.],\n",
       "         [113., 106.,  87.],\n",
       "         [169., 164., 145.]]],\n",
       "\n",
       "\n",
       "       [[[112., 122., 113.],\n",
       "         [109., 118., 101.],\n",
       "         [112., 117.,  97.],\n",
       "         ...,\n",
       "         [116., 112., 101.],\n",
       "         [122., 110.,  86.],\n",
       "         [114., 106.,  70.]],\n",
       "\n",
       "        [[113., 123., 114.],\n",
       "         [107., 126., 106.],\n",
       "         [114., 119.,  99.],\n",
       "         ...,\n",
       "         [125., 121., 110.],\n",
       "         [117., 105.,  81.],\n",
       "         [112.,  96.,  63.]],\n",
       "\n",
       "        [[111., 117., 105.],\n",
       "         [107., 118., 101.],\n",
       "         [112., 120.,  96.],\n",
       "         ...,\n",
       "         [125., 125., 117.],\n",
       "         [115., 108.,  80.],\n",
       "         [115., 101.,  75.]],\n",
       "\n",
       "        ...,\n",
       "\n",
       "        [[126., 123., 106.],\n",
       "         [118., 117.,  99.],\n",
       "         [128., 127., 122.],\n",
       "         ...,\n",
       "         [106., 111.,  88.],\n",
       "         [121., 114.,  85.],\n",
       "         [137., 129., 110.]],\n",
       "\n",
       "        [[129., 125., 116.],\n",
       "         [120., 117., 110.],\n",
       "         [124., 123., 118.],\n",
       "         ...,\n",
       "         [123., 120.,  89.],\n",
       "         [122., 117.,  97.],\n",
       "         [122., 115.,  89.]],\n",
       "\n",
       "        [[126., 122., 111.],\n",
       "         [120., 121., 116.],\n",
       "         [127., 122., 119.],\n",
       "         ...,\n",
       "         [131., 126., 106.],\n",
       "         [111., 115.,  90.],\n",
       "         [126., 125.,  95.]]]], dtype=float32)"
      ]
     },
     "execution_count": 30,
     "metadata": {},
     "output_type": "execute_result"
    }
   ],
   "source": [
    "val_images"
   ]
  },
  {
   "cell_type": "code",
   "execution_count": null,
   "metadata": {},
   "outputs": [
    {
     "name": "stdout",
     "output_type": "stream",
     "text": [
      "3/3 [==============================] - 0s 104ms/step\n",
      "[[2.4027541e-02 9.6770418e-01]\n",
      " [8.8726362e-04 9.9846154e-01]\n",
      " [2.3314606e-02 9.6337438e-01]\n",
      " [2.8850192e-01 4.0719554e-01]\n",
      " [6.1425795e-03 9.8851073e-01]\n",
      " [3.8387345e-03 9.4002402e-01]\n",
      " [1.0104042e-02 9.7092932e-01]\n",
      " [1.9704346e-02 9.4839352e-01]\n",
      " [4.3462141e-04 9.9837917e-01]\n",
      " [1.4890790e-05 9.9927646e-01]\n",
      " [3.1133574e-01 6.3899770e-02]\n",
      " [1.1809024e-02 9.9409550e-01]\n",
      " [4.4437891e-04 9.9980772e-01]\n",
      " [7.1750040e-04 9.9079204e-01]\n",
      " [3.4413533e-03 9.9361700e-01]\n",
      " [1.5557114e-06 9.9999738e-01]\n",
      " [2.6493580e-03 9.9421465e-01]\n",
      " [5.6074158e-04 9.9929118e-01]\n",
      " [1.8045319e-02 9.4518012e-01]\n",
      " [5.8836560e-03 9.7691643e-01]\n",
      " [1.3833558e-03 9.9656665e-01]\n",
      " [4.0213376e-02 9.6279281e-01]\n",
      " [6.3194461e-02 9.2401141e-01]\n",
      " [2.3480745e-02 9.6840411e-01]\n",
      " [8.3110161e-04 9.9192268e-01]\n",
      " [8.1167668e-02 8.4422600e-01]\n",
      " [5.7632523e-04 9.9891263e-01]\n",
      " [1.0185008e-04 9.9914986e-01]\n",
      " [5.6802573e-06 9.9997872e-01]\n",
      " [4.4201320e-04 9.9838346e-01]\n",
      " [2.7151810e-04 9.9926502e-01]\n",
      " [1.8648387e-05 9.9998075e-01]\n",
      " [7.1019406e-04 9.9841940e-01]\n",
      " [2.7479723e-03 9.9789548e-01]\n",
      " [1.8705473e-04 9.9975395e-01]\n",
      " [7.3234262e-03 9.8490793e-01]\n",
      " [1.5639565e-04 9.9946833e-01]\n",
      " [5.3392589e-04 9.9712563e-01]\n",
      " [4.6774382e-03 9.8726618e-01]\n",
      " [9.1090542e-06 9.9990171e-01]\n",
      " [5.7606096e-05 9.9969244e-01]\n",
      " [4.7987047e-05 9.9986833e-01]\n",
      " [8.5382588e-04 9.9872690e-01]\n",
      " [1.0511246e-04 9.9975389e-01]\n",
      " [6.4328033e-03 9.9005026e-01]\n",
      " [2.0633964e-03 9.9576759e-01]\n",
      " [1.5661664e-02 9.4710100e-01]\n",
      " [1.7975684e-01 6.8824846e-01]\n",
      " [3.4781484e-04 9.9953490e-01]\n",
      " [1.0741305e-04 9.9966735e-01]\n",
      " [8.7620514e-03 9.9549532e-01]\n",
      " [6.4963289e-04 9.9864435e-01]\n",
      " [1.3336526e-03 9.9941427e-01]\n",
      " [5.3690147e-01 2.8145418e-01]\n",
      " [1.9834144e-05 9.9999827e-01]\n",
      " [6.1330050e-01 1.8027057e-01]\n",
      " [8.4143049e-01 3.4373209e-02]\n",
      " [9.9250948e-01 1.4452761e-03]\n",
      " [9.5680588e-01 9.4234617e-03]\n",
      " [8.3004397e-01 1.3458339e-02]\n",
      " [4.3612558e-01 1.2491175e-01]\n",
      " [7.7993488e-01 6.1183125e-02]\n",
      " [8.3004785e-01 4.2075533e-02]\n",
      " [9.5738798e-01 1.0344181e-02]\n",
      " [9.9241513e-01 1.9983812e-03]\n",
      " [9.7960579e-01 5.0620511e-03]]\n"
     ]
    }
   ],
   "source": [
    "predictions_val = model.predict(val_images_normalized)\n",
    "print(predictions_val)"
   ]
  },
  {
   "cell_type": "code",
   "execution_count": null,
   "metadata": {},
   "outputs": [],
   "source": [
    "predicted_classes = (predictions_val > 0.5).astype(\"int32\")"
   ]
  },
  {
   "cell_type": "code",
   "execution_count": null,
   "metadata": {},
   "outputs": [
    {
     "data": {
      "text/plain": [
       "array([[0, 1],\n",
       "       [0, 1],\n",
       "       [0, 1],\n",
       "       [0, 0],\n",
       "       [0, 1],\n",
       "       [0, 1],\n",
       "       [0, 1],\n",
       "       [0, 1],\n",
       "       [0, 1],\n",
       "       [0, 1],\n",
       "       [0, 0],\n",
       "       [0, 1],\n",
       "       [0, 1],\n",
       "       [0, 1],\n",
       "       [0, 1],\n",
       "       [0, 1],\n",
       "       [0, 1],\n",
       "       [0, 1],\n",
       "       [0, 1],\n",
       "       [0, 1],\n",
       "       [0, 1],\n",
       "       [0, 1],\n",
       "       [0, 1],\n",
       "       [0, 1],\n",
       "       [0, 1],\n",
       "       [0, 1],\n",
       "       [0, 1],\n",
       "       [0, 1],\n",
       "       [0, 1],\n",
       "       [0, 1],\n",
       "       [0, 1],\n",
       "       [0, 1],\n",
       "       [0, 1],\n",
       "       [0, 1],\n",
       "       [0, 1],\n",
       "       [0, 1],\n",
       "       [0, 1],\n",
       "       [0, 1],\n",
       "       [0, 1],\n",
       "       [0, 1],\n",
       "       [0, 1],\n",
       "       [0, 1],\n",
       "       [0, 1],\n",
       "       [0, 1],\n",
       "       [0, 1],\n",
       "       [0, 1],\n",
       "       [0, 1],\n",
       "       [0, 1],\n",
       "       [0, 1],\n",
       "       [0, 1],\n",
       "       [0, 1],\n",
       "       [0, 1],\n",
       "       [0, 1],\n",
       "       [1, 0],\n",
       "       [0, 1],\n",
       "       [1, 0],\n",
       "       [1, 0],\n",
       "       [1, 0],\n",
       "       [1, 0],\n",
       "       [1, 0],\n",
       "       [0, 0],\n",
       "       [1, 0],\n",
       "       [1, 0],\n",
       "       [1, 0],\n",
       "       [1, 0],\n",
       "       [1, 0]])"
      ]
     },
     "execution_count": 33,
     "metadata": {},
     "output_type": "execute_result"
    }
   ],
   "source": [
    "predicted_classes"
   ]
  },
  {
   "cell_type": "code",
   "execution_count": null,
   "metadata": {},
   "outputs": [
    {
     "name": "stderr",
     "output_type": "stream",
     "text": [
      "c:\\Users\\geeth\\anaconda3\\lib\\site-packages\\keras\\src\\engine\\training.py:3103: UserWarning: You are saving your model as an HDF5 file via `model.save()`. This file format is considered legacy. We recommend using instead the native Keras format, e.g. `model.save('my_model.keras')`.\n",
      "  saving_api.save_model(\n"
     ]
    }
   ],
   "source": [
    "model.save('mobilenet_v2.h5')"
   ]
  },
  {
   "cell_type": "code",
   "execution_count": null,
   "metadata": {},
   "outputs": [
    {
     "name": "stderr",
     "output_type": "stream",
     "text": [
      "WARNING:absl:`mobilenet_1.00_128_input` is not a valid tf.function parameter name. Sanitizing to `mobilenet_1_00_128_input`.\n",
      "WARNING:absl:`mobilenet_1.00_128_input` is not a valid tf.function parameter name. Sanitizing to `mobilenet_1_00_128_input`.\n",
      "WARNING:absl:`mobilenet_1.00_128_input` is not a valid tf.function parameter name. Sanitizing to `mobilenet_1_00_128_input`.\n"
     ]
    },
    {
     "name": "stdout",
     "output_type": "stream",
     "text": [
      "INFO:tensorflow:Assets written to: C:\\Users\\geeth\\AppData\\Local\\Temp\\tmp2191bov2\\assets\n"
     ]
    },
    {
     "name": "stderr",
     "output_type": "stream",
     "text": [
      "INFO:tensorflow:Assets written to: C:\\Users\\geeth\\AppData\\Local\\Temp\\tmp2191bov2\\assets\n"
     ]
    }
   ],
   "source": [
    "# Convert the model to TensorFlow Lite format\n",
    "converter = tf.lite.TFLiteConverter.from_keras_model(model)\n",
    "tflite_model = converter.convert()\n",
    "# Save the TensorFlow Lite model to a file\n",
    "tflite_model_path = 'mobilenet_v2.tflite'\n",
    "with open(tflite_model_path, 'wb') as f:\n",
    "    f.write(tflite_model)"
   ]
  },
  {
   "cell_type": "code",
   "execution_count": null,
   "metadata": {},
   "outputs": [],
   "source": []
  }
 ],
 "metadata": {
  "kernelspec": {
   "display_name": "base",
   "language": "python",
   "name": "python3"
  },
  "language_info": {
   "codemirror_mode": {
    "name": "ipython",
    "version": 3
   },
   "file_extension": ".py",
   "mimetype": "text/x-python",
   "name": "python",
   "nbconvert_exporter": "python",
   "pygments_lexer": "ipython3",
   "version": "3.10.9"
  }
 },
 "nbformat": 4,
 "nbformat_minor": 2
}
